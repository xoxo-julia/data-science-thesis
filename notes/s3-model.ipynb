{
 "cells": [
  {
   "cell_type": "markdown",
   "id": "1c13e1ff-4fa6-4cfb-aebb-0ba7909fa758",
   "metadata": {},
   "source": [
    "# Классификация госконтрактов по объектам закупки\n",
    "\n",
    "## Импорт библиотек"
   ]
  },
  {
   "cell_type": "code",
   "execution_count": 1,
   "id": "18436c8a-a501-4132-be9f-98a00b25a647",
   "metadata": {
    "execution": {
     "iopub.execute_input": "2024-11-04T12:59:17.657994Z",
     "iopub.status.busy": "2024-11-04T12:59:17.656619Z",
     "iopub.status.idle": "2024-11-04T12:59:21.553204Z",
     "shell.execute_reply": "2024-11-04T12:59:21.552030Z",
     "shell.execute_reply.started": "2024-11-04T12:59:17.657940Z"
    },
    "scrolled": true,
    "tags": []
   },
   "outputs": [
    {
     "data": {
      "text/plain": [
       "'Tesla V100-PCIE-32GB'"
      ]
     },
     "execution_count": 1,
     "metadata": {},
     "output_type": "execute_result"
    }
   ],
   "source": [
    "import os\n",
    "import re\n",
    "\n",
    "import numpy as np\n",
    "import pandas as pd\n",
    "import matplotlib.pyplot as plt\n",
    "\n",
    "import nltk\n",
    "from nltk.stem import SnowballStemmer\n",
    "from nltk.corpus import stopwords\n",
    "from nltk.tokenize import word_tokenize\n",
    "nltk.download('popular', quiet=True)\n",
    "\n",
    "from catboost import CatBoost, CatBoostClassifier, Pool, cv\n",
    "\n",
    "from sklearn.metrics import classification_report\n",
    "from sklearn.model_selection import train_test_split\n",
    "\n",
    "pd.options.display.float_format = '{:0.3f}'.format\n",
    "pd.options.mode.chained_assignment = None\n",
    "pd.set_option('display.expand_frame_repr', False)\n",
    "\n",
    "plt.rcParams.update({'lines.linewidth': 1.25,\n",
    "                     'grid.linewidth': 0.5,\n",
    "                     'grid.alpha': 0.5,\n",
    "                     'figure.constrained_layout.use': True,\n",
    "                     'figure.figsize': (10, 6)})\n",
    "\n",
    "%config InlineBackend.figure_format = 'retina'\n",
    "\n",
    "RANDOM_STATE = 42\n",
    "\n",
    "from torch.cuda import get_device_name\n",
    "get_device_name()"
   ]
  },
  {
   "cell_type": "markdown",
   "id": "4a5d906b-8097-4284-8c73-3980d6167812",
   "metadata": {},
   "source": [
    "## Формирование выборок"
   ]
  },
  {
   "cell_type": "markdown",
   "id": "60554081-1c36-4478-a4df-ca47f82e9222",
   "metadata": {},
   "source": [
    "Проведем обработку **category**, пропустив данные через функцию prepare_text, которая подготовит текст и выполнит стемминг."
   ]
  },
  {
   "cell_type": "code",
   "execution_count": 2,
   "id": "5c856bb3-8869-475b-a8bd-0672186287bc",
   "metadata": {
    "execution": {
     "iopub.execute_input": "2024-11-04T12:59:21.556727Z",
     "iopub.status.busy": "2024-11-04T12:59:21.555416Z",
     "iopub.status.idle": "2024-11-04T12:59:21.581615Z",
     "shell.execute_reply": "2024-11-04T12:59:21.580466Z",
     "shell.execute_reply.started": "2024-11-04T12:59:21.556691Z"
    }
   },
   "outputs": [],
   "source": [
    "stemmer = nltk.stem.SnowballStemmer(language='russian')\n",
    "stopwords_ru = set(stopwords.words(\"russian\"))\n",
    "\n",
    "def prepare_text(text, stemmer=stemmer, stopwords=stopwords_ru):\n",
    "    # Оставляем только слова\n",
    "    text = re.sub(r\"[^а-яё]\", ' ', text.lower())\n",
    "    # Проводим токенизацию, выделяя отдельные слова\n",
    "    tokens = word_tokenize(text)\n",
    "    # Удаляем не несущие смысла токены (стоп-слова)\n",
    "    tokens = [t for t in tokens if not t in stopwords]\n",
    "    # Запустим стемминг (нахождение основы слова)\n",
    "    return ' '.join([stemmer.stem(t) for t in tokens])"
   ]
  },
  {
   "cell_type": "markdown",
   "id": "c38e2dd9-ec34-4e6a-8b97-2290f038d5bf",
   "metadata": {},
   "source": [
    "Загрузим очищенный, подготовленный датафрейм если он есть иначе выполним **prepare_text**."
   ]
  },
  {
   "cell_type": "code",
   "execution_count": 3,
   "id": "c0e61be7-44eb-45a1-a5af-8963b21fcd01",
   "metadata": {
    "execution": {
     "iopub.execute_input": "2024-11-04T12:59:21.584885Z",
     "iopub.status.busy": "2024-11-04T12:59:21.582843Z",
     "iopub.status.idle": "2024-11-04T12:59:30.638239Z",
     "shell.execute_reply": "2024-11-04T12:59:30.637168Z",
     "shell.execute_reply.started": "2024-11-04T12:59:21.584821Z"
    }
   },
   "outputs": [
    {
     "name": "stdout",
     "output_type": "stream",
     "text": [
      "(1865463, 8)\n"
     ]
    }
   ],
   "source": [
    "try:\n",
    "    df = pd.read_parquet('../data/fzdata-nlp.parquet')\n",
    "except:\n",
    "    df = pd.read_parquet('../data/fzdata-clean.parquet')\n",
    "\n",
    "    df['category_prep'] = df['category'].map(prepare_text)\n",
    "    df.drop(['category'], axis=1, inplace=True)\n",
    "    df.to_parquet('../data/fzdata-nlp.parquet')\n",
    "\n",
    "print(df.shape)"
   ]
  },
  {
   "cell_type": "markdown",
   "id": "227c258f-52e7-4aa8-825f-27780a17be6a",
   "metadata": {},
   "source": [
    "Разобьём выборку на тестовую и тренировочную."
   ]
  },
  {
   "cell_type": "code",
   "execution_count": 4,
   "id": "ad39c663-2501-4e55-b739-db6a79421134",
   "metadata": {
    "execution": {
     "iopub.execute_input": "2024-11-04T12:59:30.642362Z",
     "iopub.status.busy": "2024-11-04T12:59:30.640974Z",
     "iopub.status.idle": "2024-11-04T12:59:33.496337Z",
     "shell.execute_reply": "2024-11-04T12:59:33.494973Z",
     "shell.execute_reply.started": "2024-11-04T12:59:30.642320Z"
    }
   },
   "outputs": [
    {
     "name": "stdout",
     "output_type": "stream",
     "text": [
      "(1492370, 7) (373093, 7)\n"
     ]
    }
   ],
   "source": [
    "X = df.drop(['target_group'], axis=1)\n",
    "y = df['target_group']\n",
    "\n",
    "# Так как выборка не сбалансированная указываем stratify\n",
    "X_train, X_test, y_train, y_test = train_test_split(\n",
    "    X, y, test_size=0.2, stratify=y, random_state=RANDOM_STATE)\n",
    "\n",
    "print(X_train.shape, X_test.shape)"
   ]
  },
  {
   "cell_type": "code",
   "execution_count": 5,
   "id": "a599b01d-6ac6-4619-8e41-22572e2f5e6a",
   "metadata": {
    "execution": {
     "iopub.execute_input": "2024-11-04T12:59:33.498199Z",
     "iopub.status.busy": "2024-11-04T12:59:33.497393Z",
     "iopub.status.idle": "2024-11-04T12:59:33.664055Z",
     "shell.execute_reply": "2024-11-04T12:59:33.662828Z",
     "shell.execute_reply.started": "2024-11-04T12:59:33.498138Z"
    }
   },
   "outputs": [],
   "source": [
    "cat_features = X.select_dtypes(exclude=np.number).columns.tolist()\n",
    "# Категориальные фичи\n",
    "cat_features.remove('category_prep')\n",
    "# Текстовые фичи\n",
    "text_features = ['category_prep']"
   ]
  },
  {
   "cell_type": "code",
   "execution_count": 6,
   "id": "370f03ce-4406-4e2e-8ab7-7bc49b56d5bc",
   "metadata": {
    "execution": {
     "iopub.execute_input": "2024-11-04T12:59:33.665944Z",
     "iopub.status.busy": "2024-11-04T12:59:33.665282Z",
     "iopub.status.idle": "2024-11-04T12:59:36.554715Z",
     "shell.execute_reply": "2024-11-04T12:59:36.553491Z",
     "shell.execute_reply.started": "2024-11-04T12:59:33.665892Z"
    }
   },
   "outputs": [],
   "source": [
    "train_set = Pool(X_train, y_train, cat_features=cat_features, text_features=['category_prep'])\n",
    "test_set = Pool(X_test, y_test, cat_features=cat_features, text_features=['category_prep'])"
   ]
  },
  {
   "cell_type": "markdown",
   "id": "aade893f-2af8-484f-97ea-5208ca4c78d6",
   "metadata": {},
   "source": [
    "## Моделирование"
   ]
  },
  {
   "cell_type": "markdown",
   "id": "ca0db550-85f9-4215-acd2-c6be6f2b3267",
   "metadata": {},
   "source": [
    "Воспользуемся randomized_search для поиска оптимальных гиперпараметров. В качесте eval метрики возьмем [TotalF1](https://catboost.ai/en/docs/concepts/loss-functions-multiclassification#totalF1).\n",
    "\n",
    "Альтернативной моделью можно было бы использовать логистическую регрессию как в приведенной [статье на habr](https://habr.com/ru/articles/584506/).\n",
    "Она сложнее в реализации чем **CatBoostClassifier** и не имеет явных преимуществ, поэтому в работе она не рассматривается.\n",
    "\n",
    "Для подбора параметров используется **randomized_search**, но можно было использовать **optuna** с `optuna.create_study(direction='minimize')`."
   ]
  },
  {
   "cell_type": "code",
   "execution_count": 7,
   "id": "2654dbd7-a9f0-4cb6-b552-3166f5d89e50",
   "metadata": {
    "execution": {
     "iopub.execute_input": "2024-11-04T12:59:36.556877Z",
     "iopub.status.busy": "2024-11-04T12:59:36.555991Z",
     "iopub.status.idle": "2024-11-04T13:13:19.434474Z",
     "shell.execute_reply": "2024-11-04T13:13:19.433104Z",
     "shell.execute_reply.started": "2024-11-04T12:59:36.556813Z"
    },
    "scrolled": true
   },
   "outputs": [
    {
     "name": "stdout",
     "output_type": "stream",
     "text": [
      "0:\tloss: 0.6382795\tbest: 0.6382795 (0)\ttotal: 26.6s\tremaining: 12m 51s\n",
      "1:\tloss: 0.5839721\tbest: 0.6382795 (0)\ttotal: 29.9s\tremaining: 6m 58s\n",
      "2:\tloss: 0.6384059\tbest: 0.6384059 (2)\ttotal: 44.5s\tremaining: 6m 40s\n",
      "3:\tloss: 0.6382795\tbest: 0.6384059 (2)\ttotal: 59.5s\tremaining: 6m 26s\n",
      "4:\tloss: 0.6384059\tbest: 0.6384059 (2)\ttotal: 1m 14s\tremaining: 6m 10s\n",
      "5:\tloss: 0.6382795\tbest: 0.6384059 (2)\ttotal: 1m 29s\tremaining: 5m 57s\n",
      "6:\tloss: 0.6384059\tbest: 0.6384059 (2)\ttotal: 1m 43s\tremaining: 5m 41s\n",
      "7:\tloss: 0.5933759\tbest: 0.6384059 (2)\ttotal: 1m 47s\tremaining: 4m 56s\n",
      "8:\tloss: 0.6405260\tbest: 0.6405260 (8)\ttotal: 2m 4s\tremaining: 4m 51s\n",
      "9:\tloss: 0.5934246\tbest: 0.6405260 (8)\ttotal: 2m 8s\tremaining: 4m 17s\n",
      "10:\tloss: 0.5934246\tbest: 0.6405260 (8)\ttotal: 2m 12s\tremaining: 3m 48s\n",
      "11:\tloss: 0.6405260\tbest: 0.6405260 (8)\ttotal: 2m 29s\tremaining: 3m 44s\n",
      "12:\tloss: 0.6406156\tbest: 0.6406156 (12)\ttotal: 2m 47s\tremaining: 3m 38s\n",
      "13:\tloss: 0.5935790\tbest: 0.6406156 (12)\ttotal: 2m 50s\tremaining: 3m 14s\n",
      "14:\tloss: 0.5935790\tbest: 0.6406156 (12)\ttotal: 2m 53s\tremaining: 2m 53s\n",
      "15:\tloss: 0.5938027\tbest: 0.6406156 (12)\ttotal: 2m 57s\tremaining: 2m 34s\n",
      "16:\tloss: 0.6437347\tbest: 0.6437347 (16)\ttotal: 3m 17s\tremaining: 2m 31s\n",
      "17:\tloss: 0.5938027\tbest: 0.6437347 (16)\ttotal: 3m 20s\tremaining: 2m 13s\n",
      "18:\tloss: 0.6437347\tbest: 0.6437347 (16)\ttotal: 3m 41s\tremaining: 2m 8s\n",
      "19:\tloss: 0.5933044\tbest: 0.6437347 (16)\ttotal: 3m 44s\tremaining: 1m 52s\n",
      "20:\tloss: 0.5933044\tbest: 0.6437347 (16)\ttotal: 3m 48s\tremaining: 1m 38s\n",
      "21:\tloss: 0.6459471\tbest: 0.6459471 (21)\ttotal: 4m 15s\tremaining: 1m 33s\n",
      "22:\tloss: 0.5933044\tbest: 0.6459471 (21)\ttotal: 4m 19s\tremaining: 1m 19s\n",
      "23:\tloss: 0.5933044\tbest: 0.6459471 (21)\ttotal: 4m 23s\tremaining: 1m 5s\n",
      "24:\tloss: 0.6459471\tbest: 0.6459471 (21)\ttotal: 4m 50s\tremaining: 58.1s\n",
      "25:\tloss: 0.6459736\tbest: 0.6459736 (25)\ttotal: 5m 17s\tremaining: 48.8s\n",
      "26:\tloss: 0.6459471\tbest: 0.6459736 (25)\ttotal: 5m 44s\tremaining: 38.3s\n",
      "27:\tloss: 0.5933044\tbest: 0.6459736 (25)\ttotal: 5m 48s\tremaining: 24.9s\n",
      "28:\tloss: 0.6475247\tbest: 0.6475247 (28)\ttotal: 6m 25s\tremaining: 13.3s\n",
      "29:\tloss: 0.5933044\tbest: 0.6475247 (28)\ttotal: 6m 29s\tremaining: 0us\n",
      "Estimating final quality...\n"
     ]
    },
    {
     "data": {
      "text/plain": [
       "{'random_strength': 0.94,\n",
       " 'depth': 10,\n",
       " 'bootstrap_type': 'Poisson',\n",
       " 'learning_rate': 0.01}"
      ]
     },
     "execution_count": 7,
     "metadata": {},
     "output_type": "execute_result"
    }
   ],
   "source": [
    "# Задаем начальные параметры\n",
    "params={\n",
    "    'task_type': 'GPU',\n",
    "    'devices': '0:1',\n",
    "    'random_seed': RANDOM_STATE,\n",
    "    'objective': 'MultiClass',\n",
    "    'loss_function': 'MultiClass',\n",
    "    'eval_metric': 'TotalF1:hints=skip_train~false',\n",
    "    'early_stopping_rounds': 100, # чтобы не было переобучения модели\n",
    "    'logging_level': 'Silent',\n",
    "}\n",
    "\n",
    "model = CatBoost(params=params)\n",
    "\n",
    "# Формируем сетку параметров по которым будет проводится оптимизация\n",
    "param_grid = {\n",
    "    'depth': range(6,11,1), # используем рекомендуемый диапазон\n",
    "    'bootstrap_type': ['Poisson', 'Bayesian'],\n",
    "    'random_strength': np.linspace(0.7, 1, 11),\n",
    "    'learning_rate': [0.001, 0.01],\n",
    "}\n",
    "\n",
    "# Запускаем поиск\n",
    "search = model.randomized_search(\n",
    "    param_grid,\n",
    "    train_set,\n",
    "    cv=5,\n",
    "    n_iter=30,\n",
    "    search_by_train_test_split=True,\n",
    "    stratified=True,\n",
    "    partition_random_seed=RANDOM_STATE,\n",
    "    verbose=True,\n",
    ")\n",
    "\n",
    "# Обновляем параметры найденными оптимальными\n",
    "params.update(search['params'])\n",
    "search['params']"
   ]
  },
  {
   "cell_type": "markdown",
   "id": "eb94a437-2beb-4c5e-8dd1-c1a0538a03ba",
   "metadata": {},
   "source": [
    "Посмотрим какой результат покажет модель на тестовой выборке."
   ]
  },
  {
   "cell_type": "code",
   "execution_count": 8,
   "id": "f538b6d9-9227-4098-9a35-9513b08632a7",
   "metadata": {
    "execution": {
     "iopub.execute_input": "2024-11-04T13:13:19.437582Z",
     "iopub.status.busy": "2024-11-04T13:13:19.436019Z",
     "iopub.status.idle": "2024-11-04T13:14:51.380435Z",
     "shell.execute_reply": "2024-11-04T13:14:51.378928Z",
     "shell.execute_reply.started": "2024-11-04T13:13:19.437514Z"
    },
    "scrolled": true
   },
   "outputs": [
    {
     "name": "stdout",
     "output_type": "stream",
     "text": [
      "              precision    recall  f1-score   support\n",
      "\n",
      "      ДРУГИЕ       0.95      0.94      0.94    112711\n",
      "         ПИР       0.97      0.98      0.98    215208\n",
      "         СМР       0.91      0.91      0.91     45174\n",
      "\n",
      "    accuracy                           0.96    373093\n",
      "   macro avg       0.94      0.94      0.94    373093\n",
      "weighted avg       0.96      0.96      0.96    373093\n",
      "\n"
     ]
    }
   ],
   "source": [
    "cb = CatBoostClassifier(**params)\n",
    "cb.fit(train_set, verbose=250)\n",
    "\n",
    "print(classification_report(y_test, cb.predict(X_test)))"
   ]
  },
  {
   "cell_type": "code",
   "execution_count": null,
   "id": "c18e4f65-0599-4044-a50e-6bc9f577a93f",
   "metadata": {},
   "outputs": [],
   "source": []
  }
 ],
 "metadata": {
  "kernelspec": {
   "display_name": "Python 3 (ipykernel)",
   "language": "python",
   "name": "python3"
  },
  "language_info": {
   "codemirror_mode": {
    "name": "ipython",
    "version": 3
   },
   "file_extension": ".py",
   "mimetype": "text/x-python",
   "name": "python",
   "nbconvert_exporter": "python",
   "pygments_lexer": "ipython3",
   "version": "3.12.4"
  }
 },
 "nbformat": 4,
 "nbformat_minor": 5
}
