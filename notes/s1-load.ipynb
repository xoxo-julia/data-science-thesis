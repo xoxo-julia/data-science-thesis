{
 "cells": [
  {
   "cell_type": "markdown",
   "id": "7f65f9da-e78e-4581-a47a-e8c619655323",
   "metadata": {},
   "source": [
    "# Классификация госконтрактов по объектам закупки\n",
    "\n",
    "## Импорт библиотек"
   ]
  },
  {
   "cell_type": "code",
   "execution_count": 1,
   "id": "1d4e7779-6bdf-46d6-b540-d0eb2d975be0",
   "metadata": {},
   "outputs": [],
   "source": [
    "import os\n",
    "import re\n",
    "from collections import defaultdict\n",
    "import numpy as np\n",
    "import pandas as pd\n",
    "import matplotlib.pyplot as plt\n",
    "\n",
    "from tqdm import tqdm, notebook\n",
    "tqdm.pandas(desc='Progress bar ')\n",
    "\n",
    "pd.options.display.float_format = '{:0.3f}'.format\n",
    "pd.options.mode.chained_assignment = None\n",
    "pd.set_option('display.expand_frame_repr', False)"
   ]
  },
  {
   "cell_type": "markdown",
   "id": "bd5bafca-31f0-4866-b946-c11da53a9c47",
   "metadata": {},
   "source": [
    "## Загрузка данных"
   ]
  },
  {
   "attachments": {},
   "cell_type": "markdown",
   "id": "ca1ed7e9-33be-4583-8ee8-68326fe02a41",
   "metadata": {},
   "source": [
    "Ознакомившись с содержим .csv файлов предоставленных заказчиком и сопоставив их с данными с сайта https://zakupki.gov.ru ([объект закупки 1010503136621000017](https://zakupki.gov.ru/epz/contract/contractCard/payment-info-and-target-of-order.html?reestrNumber=1010503136621000017), [объект закупки 1026802173421000064](https://zakupki.gov.ru/epz/contract/contractCard/payment-info-and-target-of-order.html?reestrNumber=1026802173421000064)) были определены наименования полей."
   ]
  },
  {
   "cell_type": "code",
   "execution_count": 2,
   "id": "cabfd0cd-83c9-472d-943c-ffd35506b553",
   "metadata": {},
   "outputs": [
    {
     "data": {
      "text/plain": [
       "{1: 'Реестровый номер контракта',\n",
       " 3: 'ИНН поставщика',\n",
       " 5: 'Код региона',\n",
       " 10: 'Статус контракта',\n",
       " 11: 'Категория закупок',\n",
       " 12: 'Уровень бюджета',\n",
       " 13: 'Дата заключения контракта',\n",
       " 17: 'Дата завершения контракта',\n",
       " 18: 'Дата расторжения контракта',\n",
       " 19: 'Причина расторжения',\n",
       " 21: 'Цена контракта',\n",
       " 24: 'Раздел ОКВЭД',\n",
       " 25: 'Группа по ОКПД',\n",
       " 26: 'Код ОКПД'}"
      ]
     },
     "execution_count": 2,
     "metadata": {},
     "output_type": "execute_result"
    }
   ],
   "source": [
    "# Заменяем текстовое определение пропусков NaN\n",
    "na_values = ['<НЕ ОПРЕДЕЛЕНО>', '<НЕ РАСПРЕДЕЛЕНО>', 'N']\n",
    "\n",
    "# Cписок полей в csv файле\n",
    "columns = [\n",
    "    'Реестровый номер контракта',\n",
    "    'ИКЗ',\n",
    "    'ИНН поставщика',\n",
    "    'Полное наименование поставщика',\n",
    "    'Код региона',\n",
    "    'Часть реестрового номера',\n",
    "    'Полное наименование заказчик',\n",
    "    'Субъект РФ',\n",
    "    'КБК',\n",
    "    'Статус контракта',\n",
    "    'Категория закупок',\n",
    "    'Уровень бюджета',\n",
    "    'Дата заключения контракта',\n",
    "    'Дата начала исполнения',\n",
    "    'Срок исполнения',\n",
    "    'Дата последнего обновления',\n",
    "    'Дата завершения контракта',\n",
    "    'Дата расторжения контракта',\n",
    "    'Причина расторжения',\n",
    "    'Цена фактических затрат',\n",
    "    'Цена контракта',\n",
    "    'Сальдо',\n",
    "    'Особые изменния',\n",
    "    'Раздел ОКВЭД',\n",
    "    'Группа по ОКПД',\n",
    "    'Код ОКПД'\n",
    "]\n",
    "\n",
    "# При чтетии .csv можно было бы задать типы через converters, но это увеличивает время прочтения почти на порядок.\n",
    "# Поэтому используем dtype=defaultdict(lambda: str) чтобы все поля распарсились с типом String\n",
    "converters = defaultdict(\n",
    "    str,\n",
    "    {\n",
    "        'Реестровый номер контракта': lambda x: pd.to_numeric(x, errors=\"coerce\"),\n",
    "        'ИНН поставщика': lambda x: pd.to_numeric(x, errors=\"coerce\"),\n",
    "        'Часть реестрового номера': lambda x: pd.to_numeric(x, errors=\"coerce\"),\n",
    "        'Цена контракта': lambda x: pd.to_numeric(x, errors=\"coerce\"),\n",
    "        'Раздел ОКВЭД': str,\n",
    "        'Код ОКПД': str,\n",
    "        'Группа по ОКПД': str\n",
    "    }\n",
    ")\n",
    "parse_dates = ['Дата заключения контракта', 'Дата расторжения контракта']\n",
    "\n",
    "# Выбираем часть полей актуальных для исследования\n",
    "selected = [0, 2, 4, 9, 10, 11, 12, 16, 17, 18, 20, 23, 24, 25]\n",
    "selected_columns = {i+1:n for i,n in zip(range(len(columns)), columns) if i in selected}\n",
    "selected_columns"
   ]
  },
  {
   "cell_type": "code",
   "execution_count": 3,
   "id": "7796c901-033f-404c-b17c-afda5a27ef7e",
   "metadata": {
    "scrolled": true
   },
   "outputs": [],
   "source": [
    "def get_iterator(\n",
    "    file,\n",
    "    names,\n",
    "    na_values,\n",
    "    converters=None,\n",
    "    parse_dates=None,\n",
    "    chunksize=10000,\n",
    "    skiprows=0,\n",
    "):\n",
    "    \"\"\"\n",
    "    Функция для вычитывания чанков из архивов .csv\n",
    "    \"\"\"\n",
    "    return pd.read_csv(\n",
    "        file,\n",
    "        skiprows=skiprows,\n",
    "        chunksize=chunksize,\n",
    "        header=None,\n",
    "        names=list(names.values()),\n",
    "        index_col=False,\n",
    "        on_bad_lines=\"warn\",\n",
    "        encoding=\"utf_8\",\n",
    "        escapechar=\"\\\\\",\n",
    "        na_values=na_values,\n",
    "        usecols=list(names.keys()),\n",
    "        dtype=defaultdict(lambda: str),\n",
    "        converters=converters,\n",
    "        parse_dates=parse_dates,\n",
    "        iterator=True,\n",
    "    )"
   ]
  },
  {
   "cell_type": "markdown",
   "id": "9a5aac62-79e7-418f-bb1a-3db0f2bb5064",
   "metadata": {},
   "source": [
    "По условию задачи необходимо на основе данных с **ftp.zakupki.gov.ru** научиться определять группу, к которой относится контракт с кодом ОКПД-2 41, 42, 43, 71.1.\n",
    "\n",
    "[Общероссийские классификаторы - коды и расшифровки](https://classifikators.ru/okpd)"
   ]
  },
  {
   "cell_type": "markdown",
   "id": "d70d4905-8259-467d-9c5a-99e7f5a96a9c",
   "metadata": {},
   "source": [
    "Создадим итератор который позволит вычитывать данные небольшими чанками (кусками)."
   ]
  },
  {
   "cell_type": "code",
   "execution_count": 4,
   "id": "9a507377-2d26-4300-b0c9-36f5e8073145",
   "metadata": {},
   "outputs": [
    {
     "name": "stderr",
     "output_type": "stream",
     "text": [
      "                                                                                           "
     ]
    }
   ],
   "source": [
    "path = \"../data/fz.zip\"\n",
    "data = get_iterator(path, selected_columns, na_values)\n",
    "\n",
    "# Перечень кодов ОКПД которые нам интересны\n",
    "base = ['41', '42', '43', '71']\n",
    "# Дополним коды, т.к. в задаче будет таргет \"прочее\"\n",
    "base.extend(['45', '46', '47', '49', '50', '51', '52', '55', '56'])\n",
    "\n",
    "chunks = []\n",
    "with tqdm(total=3000, position=0, leave=False) as progress_bar:\n",
    "    for chunk in data:\n",
    "        # Оставляем только те данные ОКПД которых начинаются с base\n",
    "        chunk = chunk[\n",
    "            chunk['Код ОКПД'].map(lambda x: len(set(str(x).startswith(b) for b in base)) == 2)\n",
    "        ]\n",
    "        chunks.append(chunk)\n",
    "\n",
    "        progress_bar.update()"
   ]
  },
  {
   "cell_type": "markdown",
   "id": "80222bd4-88f5-40af-a406-8a08c35c0bcc",
   "metadata": {},
   "source": [
    "Чтобы ознакомится с данными использовался код:\n",
    "\n",
    "```python\n",
    "chunk = data.get_chunk()\n",
    "chunk.dtypes.astype(str).to_dict()\n",
    "```"
   ]
  },
  {
   "cell_type": "markdown",
   "id": "a62ea88f-4a68-4ad4-99fc-c4ef0c269f67",
   "metadata": {},
   "source": [
    "Теперь сформируем финальный датафрейм объединим одтельные чанки."
   ]
  },
  {
   "cell_type": "code",
   "execution_count": 5,
   "id": "b3d21a6b-226c-4d72-b744-470a9a1c174c",
   "metadata": {
    "scrolled": true
   },
   "outputs": [
    {
     "data": {
      "text/html": [
       "<div>\n",
       "<style scoped>\n",
       "    .dataframe tbody tr th:only-of-type {\n",
       "        vertical-align: middle;\n",
       "    }\n",
       "\n",
       "    .dataframe tbody tr th {\n",
       "        vertical-align: top;\n",
       "    }\n",
       "\n",
       "    .dataframe thead th {\n",
       "        text-align: right;\n",
       "    }\n",
       "</style>\n",
       "<table border=\"1\" class=\"dataframe\">\n",
       "  <thead>\n",
       "    <tr style=\"text-align: right;\">\n",
       "      <th></th>\n",
       "      <th>Реестровый номер контракта</th>\n",
       "      <th>ИНН поставщика</th>\n",
       "      <th>Код региона</th>\n",
       "      <th>Статус контракта</th>\n",
       "      <th>Категория закупок</th>\n",
       "      <th>Уровень бюджета</th>\n",
       "      <th>Дата заключения контракта</th>\n",
       "      <th>Дата завершения контракта</th>\n",
       "      <th>Дата расторжения контракта</th>\n",
       "      <th>Причина расторжения</th>\n",
       "      <th>Цена контракта</th>\n",
       "      <th>Раздел ОКВЭД</th>\n",
       "      <th>Группа по ОКПД</th>\n",
       "      <th>Код ОКПД</th>\n",
       "    </tr>\n",
       "  </thead>\n",
       "  <tbody>\n",
       "    <tr>\n",
       "      <th>0</th>\n",
       "      <td>1010506281521000039</td>\n",
       "      <td>2334025872</td>\n",
       "      <td>23</td>\n",
       "      <td>Контракт исполнен</td>\n",
       "      <td>Приобретение запасных частей для служебного ав...</td>\n",
       "      <td>федеральный бюджет</td>\n",
       "      <td>2021-12-03</td>\n",
       "      <td>2021-12-20</td>\n",
       "      <td>NaN</td>\n",
       "      <td>NaN</td>\n",
       "      <td>77340.00</td>\n",
       "      <td>NaN</td>\n",
       "      <td>Услуги по оптовой и розничной торговле и услуг...</td>\n",
       "      <td>45.3</td>\n",
       "    </tr>\n",
       "    <tr>\n",
       "      <th>1</th>\n",
       "      <td>1010701245721000003</td>\n",
       "      <td>753614108027</td>\n",
       "      <td>NaN</td>\n",
       "      <td>Контракт заключен</td>\n",
       "      <td>организация питания в ИВС</td>\n",
       "      <td>федеральный бюджет</td>\n",
       "      <td>2021-12-07</td>\n",
       "      <td>NaN</td>\n",
       "      <td>NaN</td>\n",
       "      <td>NaN</td>\n",
       "      <td>1895700.00</td>\n",
       "      <td>NaN</td>\n",
       "      <td>Услуги общественного питания</td>\n",
       "      <td>56.1</td>\n",
       "    </tr>\n",
       "    <tr>\n",
       "      <th>2</th>\n",
       "      <td>1026600500721000021</td>\n",
       "      <td>0268081331</td>\n",
       "      <td>02</td>\n",
       "      <td>Контракт заключен</td>\n",
       "      <td>Прочие услуги (Оказание услуг по организации п...</td>\n",
       "      <td>федеральный бюджет</td>\n",
       "      <td>2021-12-06</td>\n",
       "      <td>NaN</td>\n",
       "      <td>NaN</td>\n",
       "      <td>NaN</td>\n",
       "      <td>1450000.00</td>\n",
       "      <td>NaN</td>\n",
       "      <td>Услуги общественного питания</td>\n",
       "      <td>56.2</td>\n",
       "    </tr>\n",
       "    <tr>\n",
       "      <th>3</th>\n",
       "      <td>1026800281221000031</td>\n",
       "      <td>0268081331</td>\n",
       "      <td>02</td>\n",
       "      <td>Контракт заключен</td>\n",
       "      <td>обеспечение ежедневным трехразовым горячим пит...</td>\n",
       "      <td>федеральный бюджет</td>\n",
       "      <td>2021-12-06</td>\n",
       "      <td>NaN</td>\n",
       "      <td>NaN</td>\n",
       "      <td>NaN</td>\n",
       "      <td>1530000.00</td>\n",
       "      <td>NaN</td>\n",
       "      <td>Услуги общественного питания</td>\n",
       "      <td>56.2</td>\n",
       "    </tr>\n",
       "    <tr>\n",
       "      <th>4</th>\n",
       "      <td>1026802173421000064</td>\n",
       "      <td>743201168885</td>\n",
       "      <td>NaN</td>\n",
       "      <td>Контракт исполнен</td>\n",
       "      <td>прочая закупка услуг (услуги по монтажу и пуск...</td>\n",
       "      <td>федеральный бюджет</td>\n",
       "      <td>2021-12-10</td>\n",
       "      <td>2021-12-28</td>\n",
       "      <td>NaN</td>\n",
       "      <td>NaN</td>\n",
       "      <td>248515.44</td>\n",
       "      <td>NaN</td>\n",
       "      <td>Работы строительные специализированные</td>\n",
       "      <td>43.2</td>\n",
       "    </tr>\n",
       "  </tbody>\n",
       "</table>\n",
       "</div>"
      ],
      "text/plain": [
       "  Реестровый номер контракта ИНН поставщика Код региона   Статус контракта                                  Категория закупок     Уровень бюджета Дата заключения контракта Дата завершения контракта Дата расторжения контракта Причина расторжения Цена контракта Раздел ОКВЭД                                     Группа по ОКПД Код ОКПД\n",
       "0        1010506281521000039     2334025872          23  Контракт исполнен  Приобретение запасных частей для служебного ав...  федеральный бюджет                2021-12-03                2021-12-20                        NaN                 NaN       77340.00          NaN  Услуги по оптовой и розничной торговле и услуг...     45.3\n",
       "1        1010701245721000003   753614108027         NaN  Контракт заключен                          организация питания в ИВС  федеральный бюджет                2021-12-07                       NaN                        NaN                 NaN     1895700.00          NaN                       Услуги общественного питания     56.1\n",
       "2        1026600500721000021     0268081331          02  Контракт заключен  Прочие услуги (Оказание услуг по организации п...  федеральный бюджет                2021-12-06                       NaN                        NaN                 NaN     1450000.00          NaN                       Услуги общественного питания     56.2\n",
       "3        1026800281221000031     0268081331          02  Контракт заключен  обеспечение ежедневным трехразовым горячим пит...  федеральный бюджет                2021-12-06                       NaN                        NaN                 NaN     1530000.00          NaN                       Услуги общественного питания     56.2\n",
       "4        1026802173421000064   743201168885         NaN  Контракт исполнен  прочая закупка услуг (услуги по монтажу и пуск...  федеральный бюджет                2021-12-10                2021-12-28                        NaN                 NaN      248515.44          NaN             Работы строительные специализированные     43.2"
      ]
     },
     "metadata": {},
     "output_type": "display_data"
    },
    {
     "name": "stdout",
     "output_type": "stream",
     "text": [
      "(2889484, 14)\n"
     ]
    }
   ],
   "source": [
    "df = pd.concat(chunks, ignore_index=True)\n",
    "\n",
    "display(df.head())\n",
    "print(df.shape)"
   ]
  },
  {
   "cell_type": "markdown",
   "id": "e76d93e2-6993-4352-a32b-4e7c3810183a",
   "metadata": {},
   "source": [
    "## Подготовка данных"
   ]
  },
  {
   "cell_type": "markdown",
   "id": "c8549fca-3103-4958-94f3-25c3bdb03034",
   "metadata": {},
   "source": [
    "Вместо 'Даты завершения контракта' и 'Даты расторжения контракта' определим новое поле которое потребуется для расчета длительности контракта в днях."
   ]
  },
  {
   "cell_type": "code",
   "execution_count": 6,
   "id": "32956516-0af4-4acc-874f-858efd200894",
   "metadata": {},
   "outputs": [],
   "source": [
    "df['Дата закрытия контракта'] = np.where(df['Дата завершения контракта'].isnull(), df['Дата расторжения контракта'], df['Дата завершения контракта'])\n",
    "\n",
    "# Преобразуем в формат datetime\n",
    "df['Дата заключения контракта'] = pd.to_datetime(df['Дата заключения контракта'], errors=\"coerce\")\n",
    "df['Дата закрытия контракта'] = pd.to_datetime(df['Дата закрытия контракта'], errors=\"coerce\")\n",
    "\n",
    "df['Длительность контракта в днях'] = (df['Дата закрытия контракта'] - df['Дата заключения контракта']).dt.days"
   ]
  },
  {
   "cell_type": "markdown",
   "id": "cd0b10a7-331f-42fa-bb6a-44382601cc71",
   "metadata": {},
   "source": [
    "У части данных \"Группа по ОКПД\"\tравна \"Коду ОКПД\", это ошибка. Исключим такие данные, так как в соотвествии с заданием нужно научиться определять группу ОКПД по коду ОКПД."
   ]
  },
  {
   "cell_type": "code",
   "execution_count": 7,
   "id": "69607f18-68c4-450f-9e03-7a82e78627a3",
   "metadata": {},
   "outputs": [
    {
     "data": {
      "text/plain": [
       "(2557042, 16)"
      ]
     },
     "execution_count": 7,
     "metadata": {},
     "output_type": "execute_result"
    }
   ],
   "source": [
    "# Строки типа Str не удастся преобразовать в numeriс\n",
    "df = df[pd.to_numeric(df['Группа по ОКПД'], errors=\"coerce\").isna()]\n",
    "df.shape\n",
    "\n",
    "# with pd.option_context('display.max_rows', 1000, 'display.max_columns', 10):\n",
    "#     display(\n",
    "#         df[['Код ОКПД', 'Реестровый номер контракта']].groupby(['Код ОКПД']).count()\n",
    "#     )"
   ]
  },
  {
   "cell_type": "markdown",
   "id": "e8498e23-0f1a-41f7-96c0-c08d4eb889f9",
   "metadata": {},
   "source": [
    "Оценим пропуски."
   ]
  },
  {
   "cell_type": "code",
   "execution_count": 8,
   "id": "5f1a63b2-07f2-48bb-b3b6-cf017fb224c6",
   "metadata": {},
   "outputs": [
    {
     "data": {
      "image/png": "[encoded data removed]",
      "text/plain": [
       "<Figure size 1000x500 with 1 Axes>"
      ]
     },
     "metadata": {},
     "output_type": "display_data"
    }
   ],
   "source": [
    "(\n",
    "    df.isna()\n",
    "    .mean()\n",
    "    .sort_values()\n",
    "    .plot(kind='barh',\n",
    "          figsize=(10, 3 + len(df.columns) // 6),\n",
    "          xlim=(0, 1),\n",
    "          xticks=np.linspace(0, 1, 11))\n",
    ");"
   ]
  },
  {
   "cell_type": "markdown",
   "id": "33fe75ba-73fc-4e21-ac7c-abc35550ea44",
   "metadata": {},
   "source": [
    "Удалим строки в которых хотя бы одно из полей не определено."
   ]
  },
  {
   "cell_type": "code",
   "execution_count": 9,
   "id": "7c8982dc-34b6-46ed-9dc5-79561719dc57",
   "metadata": {},
   "outputs": [
    {
     "data": {
      "text/plain": [
       "(2556154, 16)"
      ]
     },
     "execution_count": 9,
     "metadata": {},
     "output_type": "execute_result"
    }
   ],
   "source": [
    "subset = ['Реестровый номер контракта', 'ИНН поставщика', 'Цена контракта', 'Группа по ОКПД', 'Код ОКПД']\n",
    "df.dropna(how='any', subset=subset, inplace=True)\n",
    "df.shape"
   ]
  },
  {
   "cell_type": "markdown",
   "id": "33bb16cb-c5a1-476d-a1fd-c3dbc9e61ede",
   "metadata": {},
   "source": [
    "Заменим **Дата расторжения контракта** и **Причина расторжения** на бинарный признак."
   ]
  },
  {
   "cell_type": "code",
   "execution_count": 10,
   "id": "f2fed40d-30fb-4f12-b581-0648efa83e6f",
   "metadata": {},
   "outputs": [
    {
     "data": {
      "text/plain": [
       "Причина расторжения\n",
       "Соглашение сторон                                                                                                                  451128\n",
       "Односторонний отказ заказчика от исполнения контракта в соответствии с гражданским законодательством                                31313\n",
       "Судебный акт                                                                                                                         1710\n",
       "Односторонний отказ поставщика (подрядчика, исполнителя) от исполнения контракта в соответствии с гражданским законодательством      1598\n",
       "Отмечена как недействительная информация                                                                                               18\n",
       "Name: count, dtype: int64"
      ]
     },
     "execution_count": 10,
     "metadata": {},
     "output_type": "execute_result"
    }
   ],
   "source": [
    "df['Причина расторжения'].value_counts()"
   ]
  },
  {
   "cell_type": "markdown",
   "id": "d3fe0803-e780-46fa-88e0-e3c3e28ec8e2",
   "metadata": {},
   "source": [
    "Уберем **Раздел ОКВЭД** так как там слишком много пропусков."
   ]
  },
  {
   "cell_type": "code",
   "execution_count": 11,
   "id": "9d380562-0229-4ec4-a62d-b64a4b31dd4e",
   "metadata": {},
   "outputs": [],
   "source": [
    "df.drop(['Раздел ОКВЭД'], axis=1, inplace=True)"
   ]
  },
  {
   "cell_type": "markdown",
   "id": "e575a534-c02d-4246-b390-67ad2e7808bf",
   "metadata": {},
   "source": [
    "Удалим лишние даты и **Реестровый номер контракта** (уникальный id бесполезен в машинном обучении)."
   ]
  },
  {
   "cell_type": "code",
   "execution_count": 12,
   "id": "4288f744-71b1-4685-8375-1996b9c09219",
   "metadata": {},
   "outputs": [],
   "source": [
    "df.drop(['Реестровый номер контракта', 'Дата заключения контракта', 'Дата завершения контракта', 'Дата закрытия контракта', 'Дата расторжения контракта'], axis=1, inplace=True)"
   ]
  },
  {
   "cell_type": "markdown",
   "id": "5961d9d2-40d0-4747-b8c5-4c29650cfca0",
   "metadata": {},
   "source": [
    "Переименуем столбцы чтобы с ними было проще работать в дальнейшем."
   ]
  },
  {
   "cell_type": "code",
   "execution_count": 13,
   "id": "190f04b5-b0c2-4cba-95e7-d2c183747b91",
   "metadata": {},
   "outputs": [],
   "source": [
    "# {c:c for c in df.columns}\n",
    "renames = {\n",
    "    'ИНН поставщика': 'inn',\n",
    "    'Код региона': 'region_code',\n",
    "    'Статус контракта': 'status',\n",
    "    'Категория закупок': 'category',\n",
    "    'Уровень бюджета': 'budget_level',\n",
    "    'Длительность контракта в днях': 'contract_duration',\n",
    "    'Цена контракта': 'price',\n",
    "    'Группа по ОКПД': 'okpd_group',\n",
    "    'Код ОКПД': 'okpd_code',\n",
    "    'Причина расторжения': 'termination_reason'\n",
    "}\n",
    "\n",
    "df = df.rename(columns=renames)[renames.values()]"
   ]
  },
  {
   "cell_type": "markdown",
   "id": "0490bd85-5253-45a1-8303-a9648fde0629",
   "metadata": {},
   "source": [
    "Изменим тип части полей на int или float."
   ]
  },
  {
   "cell_type": "code",
   "execution_count": 14,
   "id": "5bbf2c4e-f66f-4830-925b-b5c8cf24ee75",
   "metadata": {},
   "outputs": [
    {
     "data": {
      "text/plain": [
       "inn                     int64\n",
       "region_code            object\n",
       "status                 object\n",
       "category               object\n",
       "budget_level           object\n",
       "contract_duration     float64\n",
       "price                 float64\n",
       "okpd_group             object\n",
       "okpd_code              object\n",
       "termination_reason     object\n",
       "dtype: object"
      ]
     },
     "execution_count": 14,
     "metadata": {},
     "output_type": "execute_result"
    }
   ],
   "source": [
    "df['inn'] = pd.to_numeric(df['inn'], errors=\"coerce\")\n",
    "df['price'] = pd.to_numeric(df['price'], errors=\"coerce\")\n",
    "\n",
    "df.dtypes"
   ]
  },
  {
   "cell_type": "markdown",
   "id": "9f24dc40-24e7-4b94-a3f9-e9b9350eebbe",
   "metadata": {},
   "source": [
    "После всех преобразований получился такой датафрейм."
   ]
  },
  {
   "cell_type": "code",
   "execution_count": 15,
   "id": "883db116-50b1-400d-a68a-8a4e1afc6ead",
   "metadata": {},
   "outputs": [
    {
     "data": {
      "text/html": [
       "<div>\n",
       "<style scoped>\n",
       "    .dataframe tbody tr th:only-of-type {\n",
       "        vertical-align: middle;\n",
       "    }\n",
       "\n",
       "    .dataframe tbody tr th {\n",
       "        vertical-align: top;\n",
       "    }\n",
       "\n",
       "    .dataframe thead th {\n",
       "        text-align: right;\n",
       "    }\n",
       "</style>\n",
       "<table border=\"1\" class=\"dataframe\">\n",
       "  <thead>\n",
       "    <tr style=\"text-align: right;\">\n",
       "      <th></th>\n",
       "      <th>inn</th>\n",
       "      <th>region_code</th>\n",
       "      <th>status</th>\n",
       "      <th>category</th>\n",
       "      <th>budget_level</th>\n",
       "      <th>contract_duration</th>\n",
       "      <th>price</th>\n",
       "      <th>okpd_group</th>\n",
       "      <th>okpd_code</th>\n",
       "      <th>termination_reason</th>\n",
       "    </tr>\n",
       "  </thead>\n",
       "  <tbody>\n",
       "    <tr>\n",
       "      <th>1110308</th>\n",
       "      <td>1831190169</td>\n",
       "      <td>18</td>\n",
       "      <td>Контракт исполнен</td>\n",
       "      <td>Выполнение работ по проведению инженерных изыс...</td>\n",
       "      <td>федеральный бюджет</td>\n",
       "      <td>135.000</td>\n",
       "      <td>387171.000</td>\n",
       "      <td>Услуги в области архитектуры и инженерно-техни...</td>\n",
       "      <td>71.1</td>\n",
       "      <td>NaN</td>\n",
       "    </tr>\n",
       "    <tr>\n",
       "      <th>1395494</th>\n",
       "      <td>278109628</td>\n",
       "      <td>02</td>\n",
       "      <td>Контракт исполнен</td>\n",
       "      <td>Выполнение аварийно-восстановительных работ и ...</td>\n",
       "      <td>федеральный бюджет</td>\n",
       "      <td>349.000</td>\n",
       "      <td>660000.000</td>\n",
       "      <td>Работы строительные специализированные</td>\n",
       "      <td>43.2</td>\n",
       "      <td>NaN</td>\n",
       "    </tr>\n",
       "    <tr>\n",
       "      <th>370444</th>\n",
       "      <td>121508738797</td>\n",
       "      <td>NaN</td>\n",
       "      <td>Исполнение контракта прекращено</td>\n",
       "      <td>Поставка бензина АИ-92,АИ-95</td>\n",
       "      <td>федеральный бюджет</td>\n",
       "      <td>70.000</td>\n",
       "      <td>121229.700</td>\n",
       "      <td>Услуги по оптовой торговле, кроме оптовой торг...</td>\n",
       "      <td>46.7</td>\n",
       "      <td>Соглашение сторон</td>\n",
       "    </tr>\n",
       "    <tr>\n",
       "      <th>974771</th>\n",
       "      <td>7743529527</td>\n",
       "      <td>NaN</td>\n",
       "      <td>Контракт исполнен</td>\n",
       "      <td>Поставка бензина марки АИ - 92 для служебного ...</td>\n",
       "      <td>местный бюджет</td>\n",
       "      <td>79.000</td>\n",
       "      <td>98550.000</td>\n",
       "      <td>Услуги по розничной торговле, кроме розничной ...</td>\n",
       "      <td>47.3</td>\n",
       "      <td>NaN</td>\n",
       "    </tr>\n",
       "    <tr>\n",
       "      <th>1638609</th>\n",
       "      <td>344344989175</td>\n",
       "      <td>NaN</td>\n",
       "      <td>Исполнение контракта прекращено</td>\n",
       "      <td>Техническое обслуживание и ремонт автотранспорта</td>\n",
       "      <td>федеральный бюджет</td>\n",
       "      <td>253.000</td>\n",
       "      <td>150000.000</td>\n",
       "      <td>Услуги по оптовой и розничной торговле и услуг...</td>\n",
       "      <td>45.2</td>\n",
       "      <td>Соглашение сторон</td>\n",
       "    </tr>\n",
       "  </tbody>\n",
       "</table>\n",
       "</div>"
      ],
      "text/plain": [
       "                  inn region_code                           status                                           category        budget_level  contract_duration      price                                         okpd_group okpd_code termination_reason\n",
       "1110308    1831190169          18                Контракт исполнен  Выполнение работ по проведению инженерных изыс...  федеральный бюджет            135.000 387171.000  Услуги в области архитектуры и инженерно-техни...      71.1                NaN\n",
       "1395494     278109628          02                Контракт исполнен  Выполнение аварийно-восстановительных работ и ...  федеральный бюджет            349.000 660000.000             Работы строительные специализированные      43.2                NaN\n",
       "370444   121508738797         NaN  Исполнение контракта прекращено                       Поставка бензина АИ-92,АИ-95  федеральный бюджет             70.000 121229.700  Услуги по оптовой торговле, кроме оптовой торг...      46.7  Соглашение сторон\n",
       "974771     7743529527         NaN                Контракт исполнен  Поставка бензина марки АИ - 92 для служебного ...      местный бюджет             79.000  98550.000  Услуги по розничной торговле, кроме розничной ...      47.3                NaN\n",
       "1638609  344344989175         NaN  Исполнение контракта прекращено   Техническое обслуживание и ремонт автотранспорта  федеральный бюджет            253.000 150000.000  Услуги по оптовой и розничной торговле и услуг...      45.2  Соглашение сторон"
      ]
     },
     "metadata": {},
     "output_type": "display_data"
    },
    {
     "name": "stdout",
     "output_type": "stream",
     "text": [
      "(2556154, 10)\n"
     ]
    }
   ],
   "source": [
    "display(df.sample(5))\n",
    "print(df.shape)"
   ]
  },
  {
   "cell_type": "markdown",
   "id": "ef39069d-b982-4185-88bd-4a99e33aa3fd",
   "metadata": {},
   "source": [
    "Сохраним получивший датафрейм в parquet формате."
   ]
  },
  {
   "cell_type": "code",
   "execution_count": 16,
   "id": "9e7d7f67-d9ea-4e66-80ed-0d8324091014",
   "metadata": {},
   "outputs": [],
   "source": [
    "df.reset_index(drop=True, inplace=True)\n",
    "df.to_parquet('../data/fzdata.parquet')"
   ]
  },
  {
   "cell_type": "code",
   "execution_count": null,
   "id": "680d4197-c7ba-4fbb-8013-56a9aea9b40c",
   "metadata": {},
   "outputs": [],
   "source": []
  }
 ],
 "metadata": {
  "kernelspec": {
   "display_name": "Python 3 (ipykernel)",
   "language": "python",
   "name": "python3"
  },
  "language_info": {
   "codemirror_mode": {
    "name": "ipython",
    "version": 3
   },
   "file_extension": ".py",
   "mimetype": "text/x-python",
   "name": "python",
   "nbconvert_exporter": "python",
   "pygments_lexer": "ipython3",
   "version": "3.12.4"
  }
 },
 "nbformat": 4,
 "nbformat_minor": 5
}
